{
  "nbformat": 4,
  "nbformat_minor": 0,
  "metadata": {
    "colab": {
      "provenance": [],
      "gpuType": "T4",
      "include_colab_link": true
    },
    "kernelspec": {
      "name": "python3",
      "display_name": "Python 3"
    },
    "language_info": {
      "name": "python"
    },
    "accelerator": "GPU"
  },
  "cells": [
    {
      "cell_type": "markdown",
      "metadata": {
        "id": "view-in-github",
        "colab_type": "text"
      },
      "source": [
        "<a href=\"https://colab.research.google.com/github/Jzakai/computer-vision/blob/main/Fine_tuning.ipynb\" target=\"_parent\"><img src=\"https://colab.research.google.com/assets/colab-badge.svg\" alt=\"Open In Colab\"/></a>"
      ]
    },
    {
      "cell_type": "code",
      "source": [
        "from IPython.display import clear_output"
      ],
      "metadata": {
        "id": "OvmBbY_QCi8X"
      },
      "execution_count": null,
      "outputs": []
    },
    {
      "cell_type": "markdown",
      "source": [
        "# Finetuning\n",
        "\n",
        "1. Downloaded pretrained Resnet18 model from torchhub\n",
        "2. Modified the model for object 101 dataset subset\n",
        "3. Split the dataset between training and validation set (80% / 20%).\n",
        "4. Fine tuned the model for classification on the dataset.\n"
      ],
      "metadata": {
        "id": "SR0BEQ38Err4"
      }
    },
    {
      "cell_type": "code",
      "execution_count": null,
      "metadata": {
        "id": "5yh23b13CANZ"
      },
      "outputs": [],
      "source": [
        "!echo \"Downloading 101_Object_Categories for image notebooks\"\n",
        "\n",
        "!curl -L -o 101_ObjectCategories.zip --progress-bar https://data.caltech.edu/records/mzrjq-6wc02/files/caltech-101.zip?download=1\n",
        "!unzip 101_ObjectCategories.zip\n",
        "!mv caltech-101/101_ObjectCategories.tar.gz ./101_ObjectCategories.tar.gz\n",
        "!tar -xzf 101_ObjectCategories.tar.gz\n",
        "!rm 101_ObjectCategories.tar.gz\n",
        "!ls\n",
        "\n",
        "clear_output()"
      ]
    },
    {
      "cell_type": "code",
      "source": [
        "import random\n",
        "\n",
        "import torch\n",
        "from torch.utils.data import Subset\n",
        "\n",
        "import torchvision\n",
        "import torchvision.transforms as transforms\n",
        "\n",
        "import matplotlib.pyplot as plt"
      ],
      "metadata": {
        "id": "qcew9_0CC2TS"
      },
      "execution_count": null,
      "outputs": []
    },
    {
      "cell_type": "code",
      "source": [
        "transform = transforms.Compose([\n",
        "    transforms.ToTensor(),\n",
        "    transforms.Resize((28,28))# hint: Is something missing?\n",
        "])\n",
        "\n",
        "image_dataset = torchvision.datasets.ImageFolder(root='101_ObjectCategories', transform=transform)"
      ],
      "metadata": {
        "id": "RUqAyJFQC283"
      },
      "execution_count": null,
      "outputs": []
    },
    {
      "cell_type": "code",
      "source": [
        "print(len(image_dataset))"
      ],
      "metadata": {
        "colab": {
          "base_uri": "https://localhost:8080/"
        },
        "id": "EI8MHAqcD4go",
        "outputId": "27181bae-f61d-4d4a-bee8-9b251debed02"
      },
      "execution_count": null,
      "outputs": [
        {
          "output_type": "stream",
          "name": "stdout",
          "text": [
            "9144\n"
          ]
        }
      ]
    },
    {
      "cell_type": "code",
      "source": [
        "img, label = image_dataset[50]\n",
        "print(f'{label=}')\n",
        "transforms.functional.to_pil_image(img)"
      ],
      "metadata": {
        "colab": {
          "base_uri": "https://localhost:8080/",
          "height": 118
        },
        "id": "W0vQyvmGD_kQ",
        "outputId": "e062f7e6-2891-475e-bbf5-46ff16d0585e"
      },
      "execution_count": null,
      "outputs": [
        {
          "output_type": "stream",
          "name": "stdout",
          "text": [
            "label=0\n"
          ]
        },
        {
          "output_type": "stream",
          "name": "stderr",
          "text": [
            "/usr/local/lib/python3.10/dist-packages/torchvision/transforms/functional.py:1603: UserWarning: The default value of the antialias parameter of all the resizing transforms (Resize(), RandomResizedCrop(), etc.) will change from None to True in v0.17, in order to be consistent across the PIL and Tensor backends. To suppress this warning, directly pass antialias=True (recommended, future default), antialias=None (current default, which means False for Tensors and True for PIL), or antialias=False (only works on Tensors - PIL will still use antialiasing). This also applies if you are using the inference transforms from the models weights: update the call to weights.transforms(antialias=True).\n",
            "  warnings.warn(\n"
          ]
        },
        {
          "output_type": "execute_result",
          "data": {
            "text/plain": [
              "<PIL.Image.Image image mode=RGB size=28x28>"
            ],
            "image/png": "[encoded data removed]"
          },
          "metadata": {},
          "execution_count": 6
        }
      ]
    },
    {
      "cell_type": "code",
      "source": [
        "from torch.utils.data.sampler import SubsetRandomSampler\n",
        "from torch.utils.data import Dataset, DataLoader\n",
        "split = int(0.8 * len(image_dataset))\n",
        "indices = list(range(len(image_dataset)))\n",
        "train_indices,test_indices = indices[:split], indices[:split]\n",
        "\n",
        "train_sampler = SubsetRandomSampler(train_indices)\n",
        "test_sampler = SubsetRandomSampler(test_indices)\n",
        "\n",
        "train_loader = DataLoader(image_dataset, batch_size=32,sampler=train_sampler)\n",
        "test_loader = DataLoader(image_dataset, batch_size=32,sampler=test_sampler)\n",
        "\n"
      ],
      "metadata": {
        "id": "i2wmARyeWypz"
      },
      "execution_count": null,
      "outputs": []
    },
    {
      "cell_type": "code",
      "source": [
        "from torchvision import models,transforms\n",
        "device=torch.device(\"cuda:0\")\n",
        "\n",
        "#get resnet\n",
        "net=models.resnet18(pretrained=True)\n"
      ],
      "metadata": {
        "id": "2gVlkaNtEGox",
        "colab": {
          "base_uri": "https://localhost:8080/"
        },
        "outputId": "9a4a7332-4e7d-48cd-b296-82a3c99b9e2c"
      },
      "execution_count": null,
      "outputs": [
        {
          "output_type": "stream",
          "name": "stderr",
          "text": [
            "/usr/local/lib/python3.10/dist-packages/torchvision/models/_utils.py:208: UserWarning: The parameter 'pretrained' is deprecated since 0.13 and may be removed in the future, please use 'weights' instead.\n",
            "  warnings.warn(\n",
            "/usr/local/lib/python3.10/dist-packages/torchvision/models/_utils.py:223: UserWarning: Arguments other than a weight enum or `None` for 'weights' are deprecated since 0.13 and may be removed in the future. The current behavior is equivalent to passing `weights=ResNet18_Weights.IMAGENET1K_V1`. You can also use `weights=ResNet18_Weights.DEFAULT` to get the most up-to-date weights.\n",
            "  warnings.warn(msg)\n",
            "Downloading: \"https://download.pytorch.org/models/resnet18-f37072fd.pth\" to /root/.cache/torch/hub/checkpoints/resnet18-f37072fd.pth\n",
            "100%|██████████| 44.7M/44.7M [00:00<00:00, 79.6MB/s]\n"
          ]
        }
      ]
    },
    {
      "cell_type": "code",
      "source": [
        "#freeze all layers\n",
        "for params in net.parameters():\n",
        "  params.requirs_grad=False"
      ],
      "metadata": {
        "id": "qmfzM3wJG-Q2"
      },
      "execution_count": null,
      "outputs": []
    },
    {
      "cell_type": "code",
      "source": [
        "import torch.nn as nn\n",
        "import torch.nn.functional as F\n",
        "net.fc=nn.Linear(in_features=512,out_features=102,bias=True)\n",
        "# select desired output in out_features =101"
      ],
      "metadata": {
        "id": "Yiz4bg-SHBRF"
      },
      "execution_count": null,
      "outputs": []
    },
    {
      "cell_type": "code",
      "source": [
        "net=net.to(device)"
      ],
      "metadata": {
        "id": "iSQlaO0dKmTT"
      },
      "execution_count": null,
      "outputs": []
    },
    {
      "cell_type": "code",
      "source": [
        "#training\n",
        "import torch.nn as nn\n",
        "import torch.optim as optim\n",
        "\n",
        "num_epochs=2\n",
        "opt=optim.SGD(net.parameters(),lr=1e-2,momentum=0.5)\n",
        "lr_sch=optim.lr_scheduler.ExponentialLR(opt,0.9,verbose=True) #verbose:to see the printed updates\n",
        "ls=[]\n",
        "for _ in range(num_epochs):\n",
        "  total_loss=0\n",
        "\n",
        "  for batch in train_loader:\n",
        "    x,y=batch[0].to(device),batch[1].to(device)\n",
        "    yhat=net(x)\n",
        "    loss=F.cross_entropy(yhat,y)\n",
        "    total_loss+=loss.item()\n",
        "    opt.zero_grad()\n",
        "    loss.backward()\n",
        "    opt.step()\n",
        "  ls.append(total_loss)\n",
        "  lr_sch.step()\n",
        "plt.plot(ls)"
      ],
      "metadata": {
        "colab": {
          "base_uri": "https://localhost:8080/",
          "height": 501
        },
        "id": "9-aH0B07KthP",
        "outputId": "6a08c50b-9483-4af5-8c83-81450fe1e380"
      },
      "execution_count": null,
      "outputs": [
        {
          "output_type": "stream",
          "name": "stdout",
          "text": [
            "Adjusting learning rate of group 0 to 1.0000e-02.\n",
            "Adjusting learning rate of group 0 to 9.0000e-03.\n",
            "Adjusting learning rate of group 0 to 8.1000e-03.\n"
          ]
        },
        {
          "output_type": "execute_result",
          "data": {
            "text/plain": [
              "[<matplotlib.lines.Line2D at 0x797d546693f0>]"
            ]
          },
          "metadata": {},
          "execution_count": 12
        },
        {
          "output_type": "display_data",
          "data": {
            "text/plain": [
              "<Figure size 640x480 with 1 Axes>"
            ],
            "image/png": "[encoded data removed]"
          },
          "metadata": {}
        }
      ]
    },
    {
      "cell_type": "code",
      "source": [
        "#UnfreeZe\n",
        "for params in net.parameters():\n",
        "  params.requirs_grad=False"
      ],
      "metadata": {
        "id": "pVIm1Ph_K2wR"
      },
      "execution_count": null,
      "outputs": []
    },
    {
      "cell_type": "code",
      "source": [
        "#training again\n",
        "import torch.optim as optim\n",
        "num_epochs=2\n",
        "opt=optim.SGD(net.parameters(),lr=1e-2,momentum=0.5)\n",
        "lr_sch=optim.lr_scheduler.ExponentialLR(opt,0.9,verbose=True) #verbose:to see the printed updates\n",
        "ls=[]\n",
        "for _ in range(num_epochs):\n",
        "  total_loss=0\n",
        "\n",
        "  for batch in train_loader:\n",
        "    x,y=batch[0].to(device),batch[1].to(device)\n",
        "    yhat=net(x)\n",
        "    loss=F.cross_entropy(yhat,y)\n",
        "    total_loss+=loss.item()\n",
        "    opt.zero_grad()\n",
        "    loss.backward()\n",
        "    opt.step()\n",
        "  ls.append(total_loss)\n",
        "  lr_sch.step()\n",
        "plt.plot(ls)"
      ],
      "metadata": {
        "colab": {
          "base_uri": "https://localhost:8080/",
          "height": 501
        },
        "id": "rybjoEP4Lvca",
        "outputId": "32cde7f5-15a0-4ae0-8572-8c2612f36c1a"
      },
      "execution_count": null,
      "outputs": [
        {
          "output_type": "stream",
          "name": "stdout",
          "text": [
            "Adjusting learning rate of group 0 to 1.0000e-02.\n",
            "Adjusting learning rate of group 0 to 9.0000e-03.\n",
            "Adjusting learning rate of group 0 to 8.1000e-03.\n"
          ]
        },
        {
          "output_type": "execute_result",
          "data": {
            "text/plain": [
              "[<matplotlib.lines.Line2D at 0x797d5451ceb0>]"
            ]
          },
          "metadata": {},
          "execution_count": 14
        },
        {
          "output_type": "display_data",
          "data": {
            "text/plain": [
              "<Figure size 640x480 with 1 Axes>"
            ],
            "image/png": "[encoded data removed]"
          },
          "metadata": {}
        }
      ]
    },
    {
      "cell_type": "code",
      "source": [
        "with torch.no_grad():\n",
        "  correct = 0\n",
        "  total = 0\n",
        "  for batch in test_loader:\n",
        "    X, y = batch[0].to(device), batch[1].to(device)\n",
        "    logits = net(X)\n",
        "    pred = torch.argmax(logits, dim=1)\n",
        "    correct += (pred == y).sum().item()\n",
        "    total += y.size(0)\n",
        "  print(f\"Accuracy of Model: {100 * correct / total:.2f}%\")"
      ],
      "metadata": {
        "colab": {
          "base_uri": "https://localhost:8080/"
        },
        "id": "r3c3NebiL4VK",
        "outputId": "f2881412-725b-4768-f580-344e085b9b3a"
      },
      "execution_count": null,
      "outputs": [
        {
          "output_type": "stream",
          "name": "stdout",
          "text": [
            "Accuracy of Model: 86.89%\n"
          ]
        }
      ]
    },
    {
      "cell_type": "code",
      "source": [
        "# prompt: create confusion matrix and plot\n",
        "\n",
        "from sklearn.metrics import confusion_matrix\n",
        "with torch.no_grad():\n",
        "  correct = 0\n",
        "  total = 0\n",
        "  y_pred = []\n",
        "  y_true = []\n",
        "  for batch in test_loader:\n",
        "    X, y = batch[0].to(device), batch[1].to(device)\n",
        "    logits = net(X)\n",
        "    pred = torch.argmax(logits, dim=1)\n",
        "    correct += (pred == y).sum().item()\n",
        "    total += y.size(0)\n",
        "    y_pred.extend(pred.cpu().numpy())\n",
        "    y_true.extend(y.cpu().numpy())\n",
        "  print(f\"Accuracy of Model: {100 * correct / total:.2f}%\")\n",
        "\n",
        "cm = confusion_matrix(y_true, y_pred)\n",
        "print(cm)\n",
        "plt.imshow(cm, cmap='hot', interpolation='nearest')\n",
        "plt.colorbar()\n",
        "tick_marks = np.arange(102)\n",
        "plt.xticks(tick_marks, classes, rotation=45)\n",
        "plt.yticks(tick_marks, classes)\n",
        "plt.xlabel('Predicted')\n",
        "plt.ylabel('True')\n",
        "plt.show()\n"
      ],
      "metadata": {
        "colab": {
          "base_uri": "https://localhost:8080/",
          "height": 864
        },
        "id": "WNvu9mvCBTAd",
        "outputId": "26c344e6-8948-46ec-e667-b62a6f26244b"
      },
      "execution_count": null,
      "outputs": [
        {
          "output_type": "stream",
          "name": "stderr",
          "text": [
            "/usr/local/lib/python3.10/dist-packages/torchvision/transforms/functional.py:1603: UserWarning: The default value of the antialias parameter of all the resizing transforms (Resize(), RandomResizedCrop(), etc.) will change from None to True in v0.17, in order to be consistent across the PIL and Tensor backends. To suppress this warning, directly pass antialias=True (recommended, future default), antialias=None (current default, which means False for Tensors and True for PIL), or antialias=False (only works on Tensors - PIL will still use antialiasing). This also applies if you are using the inference transforms from the models weights: update the call to weights.transforms(antialias=True).\n",
            "  warnings.warn(\n"
          ]
        },
        {
          "output_type": "stream",
          "name": "stdout",
          "text": [
            "Accuracy of Model: 85.74%\n",
            "[[415   0   1 ...   0   0   2]\n",
            " [  5 424   0 ...   0   0   0]\n",
            " [  0   4 426 ...   0   0   0]\n",
            " ...\n",
            " [  0   0   0 ...  44   0   0]\n",
            " [  1   1   0 ...   0  30   0]\n",
            " [  1   0   0 ...   0   0  25]]\n"
          ]
        },
        {
          "output_type": "error",
          "ename": "NameError",
          "evalue": "name 'np' is not defined",
          "traceback": [
            "\u001b[0;31m---------------------------------------------------------------------------\u001b[0m",
            "\u001b[0;31mNameError\u001b[0m                                 Traceback (most recent call last)",
            "\u001b[0;32m<ipython-input-18-682b24d08ed6>\u001b[0m in \u001b[0;36m<cell line: 23>\u001b[0;34m()\u001b[0m\n\u001b[1;32m     21\u001b[0m \u001b[0mplt\u001b[0m\u001b[0;34m.\u001b[0m\u001b[0mimshow\u001b[0m\u001b[0;34m(\u001b[0m\u001b[0mcm\u001b[0m\u001b[0;34m,\u001b[0m \u001b[0mcmap\u001b[0m\u001b[0;34m=\u001b[0m\u001b[0;34m'hot'\u001b[0m\u001b[0;34m,\u001b[0m \u001b[0minterpolation\u001b[0m\u001b[0;34m=\u001b[0m\u001b[0;34m'nearest'\u001b[0m\u001b[0;34m)\u001b[0m\u001b[0;34m\u001b[0m\u001b[0;34m\u001b[0m\u001b[0m\n\u001b[1;32m     22\u001b[0m \u001b[0mplt\u001b[0m\u001b[0;34m.\u001b[0m\u001b[0mcolorbar\u001b[0m\u001b[0;34m(\u001b[0m\u001b[0;34m)\u001b[0m\u001b[0;34m\u001b[0m\u001b[0;34m\u001b[0m\u001b[0m\n\u001b[0;32m---> 23\u001b[0;31m \u001b[0mtick_marks\u001b[0m \u001b[0;34m=\u001b[0m \u001b[0mnp\u001b[0m\u001b[0;34m.\u001b[0m\u001b[0marange\u001b[0m\u001b[0;34m(\u001b[0m\u001b[0mlen\u001b[0m\u001b[0;34m(\u001b[0m\u001b[0mclasses\u001b[0m\u001b[0;34m)\u001b[0m\u001b[0;34m)\u001b[0m\u001b[0;34m\u001b[0m\u001b[0;34m\u001b[0m\u001b[0m\n\u001b[0m\u001b[1;32m     24\u001b[0m \u001b[0mplt\u001b[0m\u001b[0;34m.\u001b[0m\u001b[0mxticks\u001b[0m\u001b[0;34m(\u001b[0m\u001b[0mtick_marks\u001b[0m\u001b[0;34m,\u001b[0m \u001b[0mclasses\u001b[0m\u001b[0;34m,\u001b[0m \u001b[0mrotation\u001b[0m\u001b[0;34m=\u001b[0m\u001b[0;36m45\u001b[0m\u001b[0;34m)\u001b[0m\u001b[0;34m\u001b[0m\u001b[0;34m\u001b[0m\u001b[0m\n\u001b[1;32m     25\u001b[0m \u001b[0mplt\u001b[0m\u001b[0;34m.\u001b[0m\u001b[0myticks\u001b[0m\u001b[0;34m(\u001b[0m\u001b[0mtick_marks\u001b[0m\u001b[0;34m,\u001b[0m \u001b[0mclasses\u001b[0m\u001b[0;34m)\u001b[0m\u001b[0;34m\u001b[0m\u001b[0;34m\u001b[0m\u001b[0m\n",
            "\u001b[0;31mNameError\u001b[0m: name 'np' is not defined"
          ]
        },
        {
          "output_type": "display_data",
          "data": {
            "text/plain": [
              "<Figure size 640x480 with 2 Axes>"
            ],
            "image/png": "[encoded data removed]"
          },
          "metadata": {}
        }
      ]
    }
  ]
}